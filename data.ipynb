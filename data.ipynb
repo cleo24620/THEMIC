{
 "cells": [
  {
   "metadata": {
    "ExecuteTime": {
     "end_time": "2024-04-09T06:49:22.793568Z",
     "start_time": "2024-04-09T06:49:22.790278Z"
    }
   },
   "cell_type": "code",
   "source": [
    "import funcs\n",
    "from funcs import pre_cdf,formatted_time\n",
    "\n",
    "import numpy as np"
   ],
   "id": "86ff521d3c84af44",
   "outputs": [],
   "execution_count": 7
  },
  {
   "metadata": {
    "ExecuteTime": {
     "end_time": "2024-04-09T06:49:22.806755Z",
     "start_time": "2024-04-09T06:49:22.803672Z"
    }
   },
   "cell_type": "code",
   "source": "print(funcs.cdf_fs)",
   "id": "96c4f18577d7db79",
   "outputs": [
    {
     "name": "stdout",
     "output_type": "stream",
     "text": [
      "[WindowsPath('thc_l1_state_20080101.cdf'), WindowsPath('thc_l2_efi_20080101_v01.cdf'), WindowsPath('thc_l2_esa_20080101_v01.cdf'), WindowsPath('thc_l2_fbk_20080101_v01.cdf'), WindowsPath('thc_l2_fft_20080101_v01.cdf'), WindowsPath('thc_l2_fgm_20080101_v01.cdf'), WindowsPath('thc_l2_fit_20080101_v01.cdf'), WindowsPath('thc_l2_gmom_20080101_v01.cdf'), WindowsPath('thc_l2_mom_20080101_v01.cdf'), WindowsPath('thc_l2_scm_20080101_v01.cdf'), WindowsPath('thc_l2_sst_20080101_v01.cdf')]\n"
     ]
    }
   ],
   "execution_count": 8
  },
  {
   "metadata": {
    "ExecuteTime": {
     "end_time": "2024-04-09T06:49:24.328653Z",
     "start_time": "2024-04-09T06:49:22.807763Z"
    }
   },
   "cell_type": "code",
   "source": [
    "# 20080101\n",
    "fgm, fgm_d = pre_cdf('thc_l2_fgm_20080101_v01.cdf')\n",
    "print(\"\\n---\\n\")\n",
    "state, state_d = pre_cdf('thc_l1_state_20080101.cdf')"
   ],
   "id": "74817041410944d1",
   "outputs": [
    {
     "name": "stdout",
     "output_type": "stream",
     "text": [
      "No records found for variable thc_fgs_btotalQ\n",
      "No records found for variable thc_fgs_gseQ\n",
      "No records found for variable thc_fgs_gsmQ\n",
      "No records found for variable thc_fgs_dslQ\n",
      "No records found for variable thc_fgs_epoch\n",
      "No records found for variable thc_fgl_btotalQ\n",
      "No records found for variable thc_fgl_gseQ\n",
      "No records found for variable thc_fgl_gsmQ\n",
      "No records found for variable thc_fgl_dslQ\n",
      "No records found for variable thc_fgl_sslQ\n",
      "No records found for variable thc_fgl_epoch16\n",
      "No records found for variable thc_fgh_btotalQ\n",
      "No records found for variable thc_fgh_gseQ\n",
      "No records found for variable thc_fgh_gsmQ\n",
      "No records found for variable thc_fgh_dslQ\n",
      "No records found for variable thc_fgh_sslQ\n",
      "No records found for variable thc_fgh_epoch16\n",
      "No records found for variable thc_fge_btotalQ\n",
      "No records found for variable thc_fge_btotal\n",
      "No records found for variable thc_fge_gseQ\n",
      "No records found for variable thc_fge_gse\n",
      "No records found for variable thc_fge_gsmQ\n",
      "No records found for variable thc_fge_gsm\n",
      "No records found for variable thc_fge_dslQ\n",
      "No records found for variable thc_fge_dsl\n",
      "No records found for variable thc_fge_sslQ\n",
      "No records found for variable thc_fge_ssl\n",
      "No records found for variable thc_fge_time\n",
      "No records found for variable thc_fge_epoch16\n",
      "dict_keys(['thc_fgm_fgs_quality', 'thc_fgm_fgl_quality', 'thc_fgm_fgh_quality', 'thc_fgm_fge_quality', 'thc_fgs_btotal', 'thc_fgs_gse', 'thc_fgs_gsm', 'thc_fgs_dsl', 'thc_fgs_compno', 'thc_fgs_time', 'thc_fgs_epoch0', 'thc_fgl_btotal', 'thc_fgl_gse', 'thc_fgl_gsm', 'thc_fgl_dsl', 'thc_fgl_ssl', 'thc_fgl_compno', 'thc_fgl_time', 'thc_fgl_epoch0', 'thc_fgh_btotal', 'thc_fgh_gse', 'thc_fgh_gsm', 'thc_fgh_dsl', 'thc_fgh_ssl', 'thc_fgh_compno', 'thc_fgh_time', 'thc_fgh_epoch0', 'thc_fge_compno', 'thc_fge_labl', 'thc_fge_epoch0', 'Rep_xyz', 'range_epoch', 'thc_fgl_labl', 'thc_fgh_labl', 'thc_fgs_labl'])\n",
      "\n",
      "---\n",
      "\n",
      "No records found for variable thc_state_epoch\n",
      "No records found for variable thc_spin_correction_epoch\n",
      "No records found for variable thc_spin_epoch\n",
      "No records found for variable thc_spin_fgm_corr_epoch\n",
      "No records found for variable thc_spin_ecl_fgm_corr_epoch\n",
      "No records found for variable thc_spin_fgm_corr_time\n",
      "No records found for variable thc_spin_fgm_corr_tend\n",
      "No records found for variable thc_spin_fgm_corr_offset\n",
      "No records found for variable thc_spin_ecl_epoch\n",
      "No records found for variable thc_spin_ecl_fgm_corr_time\n",
      "No records found for variable thc_spin_ecl_fgm_corr_tend\n",
      "No records found for variable thc_spin_ecl_fgm_corr_offset\n",
      "dict_keys(['thc_pos', 'thc_pos_labl', 'thc_pos_unit', 'thc_pos_compno', 'thc_vel', 'thc_vel_labl', 'thc_vel_unit', 'thc_vel_compno', 'thc_man', 'thc_roi', 'thc_spinras', 'thc_spindec', 'thc_spinalpha', 'thc_spinbeta', 'thc_spinper', 'thc_spinphase', 'range_epoch', 'thc_spin_correction_time', 'thc_state_time', 'thc_state_epoch0', 'Rep_xyz_gei', 'thc_spin_spinper', 'thc_spin_time', 'thc_spin_tend', 'thc_spin_epoch0', 'thc_spin_c', 'thc_spin_correction', 'thc_spinras_correction', 'thc_spindec_correction', 'thc_spin_phaserr', 'thc_spin_nspins', 'thc_spin_npts', 'thc_spin_maxgap', 'thc_spin_initial_delta_phi', 'thc_spin_idpu_spinper', 'thc_spin_segflags', 'thc_spin_ecl_spinper', 'thc_spin_ecl_time', 'thc_spin_ecl_tend', 'thc_spin_ecl_c', 'thc_spin_ecl_phaserr', 'thc_spin_ecl_nspins', 'thc_spin_ecl_npts', 'thc_spin_ecl_maxgap', 'thc_spin_ecl_initial_delta_phi', 'thc_spin_ecl_idpu_spinper', 'thc_spin_ecl_segflags', 'thc_pos_gse', 'thc_pos_gse_labl', 'thc_pos_gse_unit', 'thc_pos_gse_compno', 'thc_pos_gsm', 'thc_pos_gsm_labl', 'thc_pos_gsm_unit', 'thc_pos_gsm_compno', 'thc_vel_gse', 'thc_vel_gse_labl', 'thc_vel_gse_unit', 'thc_vel_gse_compno', 'thc_vel_gsm', 'thc_vel_gsm_labl', 'thc_vel_gsm_unit', 'thc_vel_gsm_compno', 'thc_pos_sel', 'thc_pos_sel_labl', 'thc_pos_sel_unit', 'thc_pos_sel_compno', 'thc_pos_sse', 'thc_pos_sse_labl', 'thc_pos_sse_unit', 'thc_pos_sse_compno', 'thc_vel_sel', 'thc_vel_sel_labl', 'thc_vel_sel_unit', 'thc_vel_sel_compno', 'thc_vel_sse', 'thc_vel_sse_labl', 'thc_vel_sse_unit', 'thc_vel_sse_compno'])\n"
     ]
    }
   ],
   "execution_count": 9
  },
  {
   "metadata": {
    "ExecuteTime": {
     "end_time": "2024-04-09T06:49:24.337166Z",
     "start_time": "2024-04-09T06:49:24.329671Z"
    }
   },
   "cell_type": "code",
   "source": [
    "# needed vars\n",
    "pos_vars = ['thc_pos_gsm', 'thc_pos_gsm_labl', 'thc_pos_gsm_unit', 'thc_pos_gsm_compno', 'thc_state_epoch0', 'thc_state_time']\n",
    "# data assignment initialization\n",
    "thc_pos_gsm = state_d['thc_pos_gsm']\n",
    "# needed information\n",
    "state.varattsget('thc_pos_gsm')"
   ],
   "id": "3c06116519958c74",
   "outputs": [
    {
     "data": {
      "text/plain": [
       "{'CATDESC': 'thc_pos_gsm',\n",
       " 'DEPEND_0': 'thc_state_epoch',\n",
       " 'DEPEND_1': 'thc_pos_gsm_compno',\n",
       " 'DISPLAY_TYPE': 'time_series',\n",
       " 'FIELDNAM': 'thc_pos_gsm',\n",
       " 'FILLVAL': nan,\n",
       " 'FORMAT': 'F12.1',\n",
       " 'LABL_PTR_1': 'thc_pos_gsm_labl',\n",
       " 'UNIT_PTR': 'thc_pos_gsm_unit',\n",
       " 'VALIDMIN': array([-2000000., -2000000., -2000000.], dtype=float32),\n",
       " 'VALIDMAX': array([2000000., 2000000., 2000000.], dtype=float32),\n",
       " 'VAR_TYPE': 'data',\n",
       " 'COORDINATE_SYSTEM': 'GSM',\n",
       " 'REPRESENTATION_1': 'Rep_xyz_gsm',\n",
       " 'TENSOR_ORDER': '1',\n",
       " 'SCALETYP': 'linear',\n",
       " 'DEPEND_TIME': 'thc_state_time',\n",
       " 'DEPEND_EPOCH0': 'thc_state_epoch0'}"
      ]
     },
     "execution_count": 10,
     "metadata": {},
     "output_type": "execute_result"
    }
   ],
   "execution_count": 10
  },
  {
   "metadata": {
    "ExecuteTime": {
     "end_time": "2024-04-09T06:49:24.347121Z",
     "start_time": "2024-04-09T06:49:24.338202Z"
    }
   },
   "cell_type": "code",
   "source": [
    "# needed variables \n",
    "fgm_vars = ['thc_fgm_fgl_quality', 'thc_fgl_btotal', 'thc_fgl_gsm', 'thc_fgl_compno', 'thc_fgl_time', 'thc_fgl_epoch0', 'thc_fgl_labl']\n",
    "# data assignment initialization\n",
    "B = fgm_d['thc_fgl_gsm']\n",
    "time = fgm_d['thc_fgl_time'] # 4hz\n",
    "# print necessary information of gsm\n",
    "print(fgm.varattsget('thc_fgl_gsm'))\n",
    "print(fgm.varattsget('thc_fgl_time'))"
   ],
   "id": "a6917739038e756e",
   "outputs": [
    {
     "name": "stdout",
     "output_type": "stream",
     "text": [
      "{'CATDESC': 'FGL magnetic field B in XYZ GSM Coordinates', 'DISPLAY_TYPE': 'time_series', 'FIELDNAM': 'BXYZ GSM Coordinate, nT units', 'FILLVAL': -1e+30, 'FORMAT': 'E13.6', 'DEPEND_TIME': 'thc_fgl_time', 'DEPEND_EPOCH0': 'thc_fgl_epoch0', 'DEPEND_0': 'thc_fgl_epoch16', 'VALIDMIN': array([-25000., -25000., -25000.], dtype=float32), 'VALIDMAX': array([25000., 25000., 25000.], dtype=float32), 'VAR_TYPE': 'data', 'TENSOR_ORDER': '1', 'PROPERTY': 'vector', 'SC_ID': 'c', 'UNITS': 'nT GSM', 'VAR_NOTES': 'Units are in nanotesla', 'AVG_TYPE': 'standard', 'CALIB_SOFTWARE': 'fgm_calibrate, thm_cal_fgm, thm_cal_fit', 'CALIB_INPUT': 'thc_fgmcal.txt', 'SCALE_TYP': 'linear', 'DICT_KEY': 'magnetic_field>vector_GSM', 'SI_CONVERSION': '1e-9>T', 'LABL_PTR_1': 'thc_fgl_labl', 'DEPEND_1': 'thc_fgl_compno', 'COORDINATE_SYSTEM': 'GSM>Geocentric Solar Magnetic', 'REPRESENTATION_1': 'Rep_xyz'}\n",
      "{'CATDESC': 'thc_fgl, UTC, in seconds since 01-Jan-1970 00:00:00', 'FIELDNAM': 'thc_fgl_time', 'FILLVAL': -1e+30, 'FORMAT': 'F12.8', 'VALIDMIN': 0.0, 'VALIDMAX': 5000000000.0, 'VAR_TYPE': 'support_data', 'LABLAXIS': 'UT', 'UNITS': 'sec', 'VAR_NOTES': 'Unleaped seconds'}\n"
     ]
    }
   ],
   "execution_count": 11
  },
  {
   "metadata": {
    "ExecuteTime": {
     "end_time": "2024-04-09T06:49:24.352489Z",
     "start_time": "2024-04-09T06:49:24.348130Z"
    }
   },
   "cell_type": "code",
   "source": [
    "RE = 6371 # km\n",
    "pos_abs = np.abs(thc_pos_gsm)\n",
    "# use conditions to filter 'thc_pos_gsm'\n",
    "cond_y = pos_abs[:,1] < 5*RE\n",
    "cond_x = ((pos_abs[:,0] > 9*RE) & (pos_abs[:,0] < 19*RE))\n",
    "combined_cond = cond_y & cond_x\n",
    "filtered_arr = thc_pos_gsm[combined_cond]"
   ],
   "id": "6540755424062f96",
   "outputs": [],
   "execution_count": 12
  }
 ],
 "metadata": {
  "kernelspec": {
   "display_name": "Python 3",
   "language": "python",
   "name": "python3"
  },
  "language_info": {
   "codemirror_mode": {
    "name": "ipython",
    "version": 2
   },
   "file_extension": ".py",
   "mimetype": "text/x-python",
   "name": "python",
   "nbconvert_exporter": "python",
   "pygments_lexer": "ipython2",
   "version": "2.7.6"
  }
 },
 "nbformat": 4,
 "nbformat_minor": 5
}
