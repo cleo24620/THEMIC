{
 "cells": [
  {
   "metadata": {
    "ExecuteTime": {
     "end_time": "2024-04-09T12:52:14.363940Z",
     "start_time": "2024-04-09T12:52:14.360892Z"
    }
   },
   "cell_type": "code",
   "source": [
    "import funcs\n",
    "from funcs import pre_cdf,formatted_time,get_con_subs,split_array,check_same_sign\n",
    "\n",
    "import numpy as np"
   ],
   "id": "86ff521d3c84af44",
   "outputs": [],
   "execution_count": 19
  },
  {
   "metadata": {
    "ExecuteTime": {
     "end_time": "2024-04-09T12:52:14.373079Z",
     "start_time": "2024-04-09T12:52:14.369478Z"
    }
   },
   "cell_type": "code",
   "source": "print(funcs.cdf_fs)",
   "id": "96c4f18577d7db79",
   "outputs": [
    {
     "name": "stdout",
     "output_type": "stream",
     "text": [
      "[WindowsPath('thc_l1_state_20080101.cdf'), WindowsPath('thc_l2_efi_20080101_v01.cdf'), WindowsPath('thc_l2_esa_20080101_v01.cdf'), WindowsPath('thc_l2_fbk_20080101_v01.cdf'), WindowsPath('thc_l2_fft_20080101_v01.cdf'), WindowsPath('thc_l2_fgm_20080101_v01.cdf'), WindowsPath('thc_l2_fit_20080101_v01.cdf'), WindowsPath('thc_l2_gmom_20080101_v01.cdf'), WindowsPath('thc_l2_mom_20080101_v01.cdf'), WindowsPath('thc_l2_scm_20080101_v01.cdf'), WindowsPath('thc_l2_sst_20080101_v01.cdf')]\n"
     ]
    }
   ],
   "execution_count": 20
  },
  {
   "metadata": {
    "ExecuteTime": {
     "end_time": "2024-04-09T12:52:15.726599Z",
     "start_time": "2024-04-09T12:52:14.374085Z"
    }
   },
   "cell_type": "code",
   "source": [
    "# 20080101\n",
    "# fgm\n",
    "fgm, fgm_d = pre_cdf('thc_l2_fgm_20080101_v01.cdf')\n",
    "print(\"\\n---\\n\")\n",
    "# state\n",
    "state, state_d = pre_cdf('thc_l1_state_20080101.cdf')"
   ],
   "id": "74817041410944d1",
   "outputs": [
    {
     "name": "stdout",
     "output_type": "stream",
     "text": [
      "No records found for variable thc_fgs_btotalQ\n",
      "No records found for variable thc_fgs_gseQ\n",
      "No records found for variable thc_fgs_gsmQ\n",
      "No records found for variable thc_fgs_dslQ\n",
      "No records found for variable thc_fgs_epoch\n",
      "No records found for variable thc_fgl_btotalQ\n",
      "No records found for variable thc_fgl_gseQ\n",
      "No records found for variable thc_fgl_gsmQ\n",
      "No records found for variable thc_fgl_dslQ\n",
      "No records found for variable thc_fgl_sslQ\n",
      "No records found for variable thc_fgl_epoch16\n",
      "No records found for variable thc_fgh_btotalQ\n",
      "No records found for variable thc_fgh_gseQ\n",
      "No records found for variable thc_fgh_gsmQ\n",
      "No records found for variable thc_fgh_dslQ\n",
      "No records found for variable thc_fgh_sslQ\n",
      "No records found for variable thc_fgh_epoch16\n",
      "No records found for variable thc_fge_btotalQ\n",
      "No records found for variable thc_fge_btotal\n",
      "No records found for variable thc_fge_gseQ\n",
      "No records found for variable thc_fge_gse\n",
      "No records found for variable thc_fge_gsmQ\n",
      "No records found for variable thc_fge_gsm\n",
      "No records found for variable thc_fge_dslQ\n",
      "No records found for variable thc_fge_dsl\n",
      "No records found for variable thc_fge_sslQ\n",
      "No records found for variable thc_fge_ssl\n",
      "No records found for variable thc_fge_time\n",
      "No records found for variable thc_fge_epoch16\n",
      "dict_keys(['thc_fgm_fgs_quality', 'thc_fgm_fgl_quality', 'thc_fgm_fgh_quality', 'thc_fgm_fge_quality', 'thc_fgs_btotal', 'thc_fgs_gse', 'thc_fgs_gsm', 'thc_fgs_dsl', 'thc_fgs_compno', 'thc_fgs_time', 'thc_fgs_epoch0', 'thc_fgl_btotal', 'thc_fgl_gse', 'thc_fgl_gsm', 'thc_fgl_dsl', 'thc_fgl_ssl', 'thc_fgl_compno', 'thc_fgl_time', 'thc_fgl_epoch0', 'thc_fgh_btotal', 'thc_fgh_gse', 'thc_fgh_gsm', 'thc_fgh_dsl', 'thc_fgh_ssl', 'thc_fgh_compno', 'thc_fgh_time', 'thc_fgh_epoch0', 'thc_fge_compno', 'thc_fge_labl', 'thc_fge_epoch0', 'Rep_xyz', 'range_epoch', 'thc_fgl_labl', 'thc_fgh_labl', 'thc_fgs_labl'])\n",
      "\n",
      "---\n",
      "\n",
      "No records found for variable thc_state_epoch\n",
      "No records found for variable thc_spin_correction_epoch\n",
      "No records found for variable thc_spin_epoch\n",
      "No records found for variable thc_spin_fgm_corr_epoch\n",
      "No records found for variable thc_spin_ecl_fgm_corr_epoch\n",
      "No records found for variable thc_spin_fgm_corr_time\n",
      "No records found for variable thc_spin_fgm_corr_tend\n",
      "No records found for variable thc_spin_fgm_corr_offset\n",
      "No records found for variable thc_spin_ecl_epoch\n",
      "No records found for variable thc_spin_ecl_fgm_corr_time\n",
      "No records found for variable thc_spin_ecl_fgm_corr_tend\n",
      "No records found for variable thc_spin_ecl_fgm_corr_offset\n",
      "dict_keys(['thc_pos', 'thc_pos_labl', 'thc_pos_unit', 'thc_pos_compno', 'thc_vel', 'thc_vel_labl', 'thc_vel_unit', 'thc_vel_compno', 'thc_man', 'thc_roi', 'thc_spinras', 'thc_spindec', 'thc_spinalpha', 'thc_spinbeta', 'thc_spinper', 'thc_spinphase', 'range_epoch', 'thc_spin_correction_time', 'thc_state_time', 'thc_state_epoch0', 'Rep_xyz_gei', 'thc_spin_spinper', 'thc_spin_time', 'thc_spin_tend', 'thc_spin_epoch0', 'thc_spin_c', 'thc_spin_correction', 'thc_spinras_correction', 'thc_spindec_correction', 'thc_spin_phaserr', 'thc_spin_nspins', 'thc_spin_npts', 'thc_spin_maxgap', 'thc_spin_initial_delta_phi', 'thc_spin_idpu_spinper', 'thc_spin_segflags', 'thc_spin_ecl_spinper', 'thc_spin_ecl_time', 'thc_spin_ecl_tend', 'thc_spin_ecl_c', 'thc_spin_ecl_phaserr', 'thc_spin_ecl_nspins', 'thc_spin_ecl_npts', 'thc_spin_ecl_maxgap', 'thc_spin_ecl_initial_delta_phi', 'thc_spin_ecl_idpu_spinper', 'thc_spin_ecl_segflags', 'thc_pos_gse', 'thc_pos_gse_labl', 'thc_pos_gse_unit', 'thc_pos_gse_compno', 'thc_pos_gsm', 'thc_pos_gsm_labl', 'thc_pos_gsm_unit', 'thc_pos_gsm_compno', 'thc_vel_gse', 'thc_vel_gse_labl', 'thc_vel_gse_unit', 'thc_vel_gse_compno', 'thc_vel_gsm', 'thc_vel_gsm_labl', 'thc_vel_gsm_unit', 'thc_vel_gsm_compno', 'thc_pos_sel', 'thc_pos_sel_labl', 'thc_pos_sel_unit', 'thc_pos_sel_compno', 'thc_pos_sse', 'thc_pos_sse_labl', 'thc_pos_sse_unit', 'thc_pos_sse_compno', 'thc_vel_sel', 'thc_vel_sel_labl', 'thc_vel_sel_unit', 'thc_vel_sel_compno', 'thc_vel_sse', 'thc_vel_sse_labl', 'thc_vel_sse_unit', 'thc_vel_sse_compno'])\n"
     ]
    }
   ],
   "execution_count": 21
  },
  {
   "metadata": {
    "ExecuteTime": {
     "end_time": "2024-04-09T12:52:15.733848Z",
     "start_time": "2024-04-09T12:52:15.727613Z"
    }
   },
   "cell_type": "code",
   "source": [
    "# needed vars\n",
    "# state\n",
    "pos_vars = ['thc_pos_gsm', 'thc_pos_gsm_labl', 'thc_pos_gsm_unit', 'thc_pos_gsm_compno', 'thc_state_epoch0', 'thc_state_time']\n",
    "# data assignment initialization\n",
    "thc_pos_gsm = state_d['thc_pos_gsm']\n",
    "thc_state_time = state_d['thc_state_time']\n",
    "# needed information\n",
    "state.varattsget('thc_pos_gsm')"
   ],
   "id": "3c06116519958c74",
   "outputs": [
    {
     "data": {
      "text/plain": [
       "{'CATDESC': 'thc_pos_gsm',\n",
       " 'DEPEND_0': 'thc_state_epoch',\n",
       " 'DEPEND_1': 'thc_pos_gsm_compno',\n",
       " 'DISPLAY_TYPE': 'time_series',\n",
       " 'FIELDNAM': 'thc_pos_gsm',\n",
       " 'FILLVAL': nan,\n",
       " 'FORMAT': 'F12.1',\n",
       " 'LABL_PTR_1': 'thc_pos_gsm_labl',\n",
       " 'UNIT_PTR': 'thc_pos_gsm_unit',\n",
       " 'VALIDMIN': array([-2000000., -2000000., -2000000.], dtype=float32),\n",
       " 'VALIDMAX': array([2000000., 2000000., 2000000.], dtype=float32),\n",
       " 'VAR_TYPE': 'data',\n",
       " 'COORDINATE_SYSTEM': 'GSM',\n",
       " 'REPRESENTATION_1': 'Rep_xyz_gsm',\n",
       " 'TENSOR_ORDER': '1',\n",
       " 'SCALETYP': 'linear',\n",
       " 'DEPEND_TIME': 'thc_state_time',\n",
       " 'DEPEND_EPOCH0': 'thc_state_epoch0'}"
      ]
     },
     "execution_count": 22,
     "metadata": {},
     "output_type": "execute_result"
    }
   ],
   "execution_count": 22
  },
  {
   "metadata": {
    "ExecuteTime": {
     "end_time": "2024-04-09T12:52:15.741410Z",
     "start_time": "2024-04-09T12:52:15.734852Z"
    }
   },
   "cell_type": "code",
   "source": [
    "# needed variables \n",
    "fgm_vars = ['thc_fgm_fgl_quality', 'thc_fgl_btotal', 'thc_fgl_gsm', 'thc_fgl_compno', 'thc_fgl_time', 'thc_fgl_epoch0', 'thc_fgl_labl']\n",
    "# data assignment initialization\n",
    "thc_fgl_gsm = fgm_d['thc_fgl_gsm']\n",
    "thc_fgl_time = fgm_d['thc_fgl_time'] # 4hz\n",
    "# print necessary information of gsm\n",
    "print(fgm.varattsget('thc_fgl_gsm'))\n",
    "print(fgm.varattsget('thc_fgl_time'))"
   ],
   "id": "a6917739038e756e",
   "outputs": [
    {
     "name": "stdout",
     "output_type": "stream",
     "text": [
      "{'CATDESC': 'FGL magnetic field B in XYZ GSM Coordinates', 'DISPLAY_TYPE': 'time_series', 'FIELDNAM': 'BXYZ GSM Coordinate, nT units', 'FILLVAL': -1e+30, 'FORMAT': 'E13.6', 'DEPEND_TIME': 'thc_fgl_time', 'DEPEND_EPOCH0': 'thc_fgl_epoch0', 'DEPEND_0': 'thc_fgl_epoch16', 'VALIDMIN': array([-25000., -25000., -25000.], dtype=float32), 'VALIDMAX': array([25000., 25000., 25000.], dtype=float32), 'VAR_TYPE': 'data', 'TENSOR_ORDER': '1', 'PROPERTY': 'vector', 'SC_ID': 'c', 'UNITS': 'nT GSM', 'VAR_NOTES': 'Units are in nanotesla', 'AVG_TYPE': 'standard', 'CALIB_SOFTWARE': 'fgm_calibrate, thm_cal_fgm, thm_cal_fit', 'CALIB_INPUT': 'thc_fgmcal.txt', 'SCALE_TYP': 'linear', 'DICT_KEY': 'magnetic_field>vector_GSM', 'SI_CONVERSION': '1e-9>T', 'LABL_PTR_1': 'thc_fgl_labl', 'DEPEND_1': 'thc_fgl_compno', 'COORDINATE_SYSTEM': 'GSM>Geocentric Solar Magnetic', 'REPRESENTATION_1': 'Rep_xyz'}\n",
      "{'CATDESC': 'thc_fgl, UTC, in seconds since 01-Jan-1970 00:00:00', 'FIELDNAM': 'thc_fgl_time', 'FILLVAL': -1e+30, 'FORMAT': 'F12.8', 'VALIDMIN': 0.0, 'VALIDMAX': 5000000000.0, 'VAR_TYPE': 'support_data', 'LABLAXIS': 'UT', 'UNITS': 'sec', 'VAR_NOTES': 'Unleaped seconds'}\n"
     ]
    }
   ],
   "execution_count": 23
  },
  {
   "metadata": {
    "ExecuteTime": {
     "end_time": "2024-04-09T12:52:15.745709Z",
     "start_time": "2024-04-09T12:52:15.742415Z"
    }
   },
   "cell_type": "code",
   "source": "formatted_time(thc_state_time[0])",
   "id": "f9c1f285c829089f",
   "outputs": [
    {
     "data": {
      "text/plain": [
       "'2008-01-01 08:00:00'"
      ]
     },
     "execution_count": 24,
     "metadata": {},
     "output_type": "execute_result"
    }
   ],
   "execution_count": 24
  },
  {
   "metadata": {
    "ExecuteTime": {
     "end_time": "2024-04-09T12:52:15.750179Z",
     "start_time": "2024-04-09T12:52:15.746715Z"
    }
   },
   "cell_type": "code",
   "source": "formatted_time(thc_fgl_time[0])",
   "id": "ea9c734d4f4dcfcc",
   "outputs": [
    {
     "data": {
      "text/plain": [
       "'2008-01-01 08:23:18'"
      ]
     },
     "execution_count": 25,
     "metadata": {},
     "output_type": "execute_result"
    }
   ],
   "execution_count": 25
  },
  {
   "metadata": {
    "ExecuteTime": {
     "end_time": "2024-04-09T12:52:15.754481Z",
     "start_time": "2024-04-09T12:52:15.750781Z"
    }
   },
   "cell_type": "code",
   "source": [
    "RE = 6371 # km\n",
    "thc_pos_gsm_abs = np.abs(thc_pos_gsm)\n",
    "# use conditions to filter 'thc_pos_gsm'\n",
    "cond_y = thc_pos_gsm_abs[:, 1] < 5 * RE\n",
    "cond_x = ((thc_pos_gsm_abs[:, 0] > 9 * RE) & (thc_pos_gsm_abs[:, 0] < 19 * RE))\n",
    "combined_cond = cond_y & cond_x\n",
    "filtered_thc_pos_gsm = thc_pos_gsm[combined_cond]\n",
    "filtered_thc_state_time = thc_state_time[combined_cond]"
   ],
   "id": "b8460cab4d97bca8",
   "outputs": [],
   "execution_count": 26
  },
  {
   "metadata": {
    "ExecuteTime": {
     "end_time": "2024-04-09T12:52:15.757788Z",
     "start_time": "2024-04-09T12:52:15.755485Z"
    }
   },
   "cell_type": "code",
   "source": [
    "con_subs = get_con_subs(filtered_thc_state_time)\n",
    "# 20\n",
    "state_arrays20 = split_array(con_subs[0], 20)  # len(con_subs) not always be 1"
   ],
   "id": "3182ba2224c09269",
   "outputs": [],
   "execution_count": 27
  },
  {
   "metadata": {
    "ExecuteTime": {
     "end_time": "2024-04-09T12:52:15.762587Z",
     "start_time": "2024-04-09T12:52:15.758792Z"
    }
   },
   "cell_type": "code",
   "source": [
    "print(\"the start time of thc_fgl_time:\",formatted_time(thc_fgl_time[0]))\n",
    "print(\"the end time of thc_fgl_time:\",formatted_time(thc_fgl_time[-1]))\n",
    "print(\"the start time of state_arrays20:\", formatted_time(state_arrays20[0][0]))\n",
    "print(\"the end time of state_arrays20:\", formatted_time(state_arrays20[-1][-1]))"
   ],
   "id": "5d041afeb6e5f861",
   "outputs": [
    {
     "name": "stdout",
     "output_type": "stream",
     "text": [
      "the start time of thc_fgl_time: 2008-01-01 08:23:18\n",
      "the end time of thc_fgl_time: 2008-01-01 20:30:46\n",
      "the start time of state_arrays20: 2008-01-01 08:00:00\n",
      "the end time of state_arrays20: 2008-01-01 13:19:00\n"
     ]
    }
   ],
   "execution_count": 28
  },
  {
   "metadata": {
    "ExecuteTime": {
     "end_time": "2024-04-09T12:52:15.766496Z",
     "start_time": "2024-04-09T12:52:15.763591Z"
    }
   },
   "cell_type": "code",
   "source": "thc_fgl_time_floor = np.floor(thc_fgl_time)",
   "id": "4e5a4e7915467409",
   "outputs": [],
   "execution_count": 29
  },
  {
   "metadata": {
    "ExecuteTime": {
     "end_time": "2024-04-09T12:52:15.772Z",
     "start_time": "2024-04-09T12:52:15.767502Z"
    }
   },
   "cell_type": "code",
   "source": [
    "fgl_split_ids = []  # ids for split data of thc_fgl_...\n",
    "for i in range(2, len(state_arrays20) - 1):\n",
    "    fgl_split_ids.append((np.where(thc_fgl_time_floor == state_arrays20[i][0])[0][0],\n",
    "                          np.where(thc_fgl_time_floor == state_arrays20[i][-1])[0][-1]))"
   ],
   "id": "99e63964311d5aa4",
   "outputs": [],
   "execution_count": 30
  },
  {
   "metadata": {
    "ExecuteTime": {
     "end_time": "2024-04-09T12:52:15.775184Z",
     "start_time": "2024-04-09T12:52:15.773014Z"
    }
   },
   "cell_type": "code",
   "source": [
    "# thc_fgl_time_arrays = []\n",
    "# for id in fgl_split_ids:\n",
    "#     thc_fgl_time_array = thc_fgl_time[id[0]:id[1]+1]\n",
    "#     thc_fgl_time_arrays.append(thc_fgl_time_array)"
   ],
   "id": "53eef31918f99070",
   "outputs": [],
   "execution_count": 31
  },
  {
   "metadata": {
    "ExecuteTime": {
     "end_time": "2024-04-09T12:52:15.779545Z",
     "start_time": "2024-04-09T12:52:15.776197Z"
    }
   },
   "cell_type": "code",
   "source": [
    "Bx = thc_fgl_gsm[:, 0]\n",
    "cond_bx = []\n",
    "for id in fgl_split_ids:\n",
    "    Bxs = Bx[id[0]:id[1]+1]\n",
    "    if check_same_sign(Bxs):\n",
    "        cond_bx.append(1)\n",
    "    else:\n",
    "        cond_bx.append(0)"
   ],
   "id": "db7841da9565ac80",
   "outputs": [],
   "execution_count": 32
  },
  {
   "metadata": {
    "ExecuteTime": {
     "end_time": "2024-04-09T12:52:15.783352Z",
     "start_time": "2024-04-09T12:52:15.780551Z"
    }
   },
   "cell_type": "code",
   "source": [
    "fgl_split_ids = [id for id,selector in zip(fgl_split_ids,cond_bx) if selector]  # filter the fgl_split_ids using the cond_bx\n",
    "# the fgl_split_ids is the ids for fgl which satisfies the cond_x, cond_y and cond_bx."
   ],
   "id": "b7b1586ca00f8dbf",
   "outputs": [],
   "execution_count": 33
  },
  {
   "metadata": {
    "ExecuteTime": {
     "end_time": "2024-04-09T13:03:30.650744Z",
     "start_time": "2024-04-09T13:03:30.536666Z"
    }
   },
   "cell_type": "code",
   "source": [
    "import matplotlib.pyplot as plt\n",
    "plt.plot(Bx)"
   ],
   "id": "34322366388efc66",
   "outputs": [
    {
     "data": {
      "text/plain": [
       "[<matplotlib.lines.Line2D at 0x18a96a69f50>]"
      ]
     },
     "execution_count": 35,
     "metadata": {},
     "output_type": "execute_result"
    },
    {
     "data": {
      "text/plain": [
       "<Figure size 640x480 with 1 Axes>"
      ],
      "image/png": "[encoded data removed]"
     },
     "metadata": {},
     "output_type": "display_data"
    }
   ],
   "execution_count": 35
  }
 ],
 "metadata": {
  "kernelspec": {
   "display_name": "Python 3",
   "language": "python",
   "name": "python3"
  },
  "language_info": {
   "codemirror_mode": {
    "name": "ipython",
    "version": 2
   },
   "file_extension": ".py",
   "mimetype": "text/x-python",
   "name": "python",
   "nbconvert_exporter": "python",
   "pygments_lexer": "ipython2",
   "version": "2.7.6"
  }
 },
 "nbformat": 4,
 "nbformat_minor": 5
}
